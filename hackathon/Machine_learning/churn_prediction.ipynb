{
 "cells": [
  {
   "cell_type": "code",
   "execution_count": 1,
   "metadata": {},
   "outputs": [],
   "source": [
    "import pandas as pd\n",
    "import numpy as np\n",
    "import matplotlib.pyplot as plt\n",
    "import seaborn as sns"
   ]
  },
  {
   "cell_type": "code",
   "execution_count": 2,
   "metadata": {},
   "outputs": [
    {
     "name": "stdout",
     "output_type": "stream",
     "text": [
      "(3810, 9)\n"
     ]
    },
    {
     "data": {
      "text/html": [
       "<div>\n",
       "<style scoped>\n",
       "    .dataframe tbody tr th:only-of-type {\n",
       "        vertical-align: middle;\n",
       "    }\n",
       "\n",
       "    .dataframe tbody tr th {\n",
       "        vertical-align: top;\n",
       "    }\n",
       "\n",
       "    .dataframe thead th {\n",
       "        text-align: right;\n",
       "    }\n",
       "</style>\n",
       "<table border=\"1\" class=\"dataframe\">\n",
       "  <thead>\n",
       "    <tr style=\"text-align: right;\">\n",
       "      <th></th>\n",
       "      <th>GroupId</th>\n",
       "      <th>Province</th>\n",
       "      <th>Material Name</th>\n",
       "      <th>month</th>\n",
       "      <th>cur_volume</th>\n",
       "      <th>next_month</th>\n",
       "      <th>next_volume</th>\n",
       "      <th>volume_diff</th>\n",
       "      <th>Churn</th>\n",
       "    </tr>\n",
       "  </thead>\n",
       "  <tbody>\n",
       "    <tr>\n",
       "      <th>1</th>\n",
       "      <td>ERW_A1DS2023040002</td>\n",
       "      <td>Bangkok</td>\n",
       "      <td>M SUP AIO PROTECTION TBS 5W-30 4X7L/CAR</td>\n",
       "      <td>5</td>\n",
       "      <td>12544</td>\n",
       "      <td>9.0</td>\n",
       "      <td>8120.0</td>\n",
       "      <td>-4424.0</td>\n",
       "      <td>Yes</td>\n",
       "    </tr>\n",
       "    <tr>\n",
       "      <th>2</th>\n",
       "      <td>ERW_A1DS2023040002</td>\n",
       "      <td>Bangkok</td>\n",
       "      <td>M SUP AIO PROTECTION TBS 5W-30 4X7L/CAR</td>\n",
       "      <td>9</td>\n",
       "      <td>8120</td>\n",
       "      <td>11.0</td>\n",
       "      <td>5040.0</td>\n",
       "      <td>-3080.0</td>\n",
       "      <td>Yes</td>\n",
       "    </tr>\n",
       "    <tr>\n",
       "      <th>3</th>\n",
       "      <td>ERW_A1DS2023040002</td>\n",
       "      <td>Bangkok</td>\n",
       "      <td>M SUP AIO Protection 5W-30 4x4+1L/CAR</td>\n",
       "      <td>5</td>\n",
       "      <td>7160</td>\n",
       "      <td>10.0</td>\n",
       "      <td>4580.0</td>\n",
       "      <td>-2580.0</td>\n",
       "      <td>Yes</td>\n",
       "    </tr>\n",
       "    <tr>\n",
       "      <th>4</th>\n",
       "      <td>ERW_A1DS2023040005</td>\n",
       "      <td>Udon Thani</td>\n",
       "      <td>M DEL LEGEND CH-4 15W-40 H.D. CTN4X7L:TH</td>\n",
       "      <td>11</td>\n",
       "      <td>16436</td>\n",
       "      <td>12.0</td>\n",
       "      <td>5908.0</td>\n",
       "      <td>-10528.0</td>\n",
       "      <td>Yes</td>\n",
       "    </tr>\n",
       "    <tr>\n",
       "      <th>5</th>\n",
       "      <td>ERW_A1DS2023040005</td>\n",
       "      <td>Udon Thani</td>\n",
       "      <td>M DEL LEGEND CH-4 15W-40 H.D.,1X12L CTN</td>\n",
       "      <td>6</td>\n",
       "      <td>7800</td>\n",
       "      <td>10.0</td>\n",
       "      <td>10348.0</td>\n",
       "      <td>2548.0</td>\n",
       "      <td>No</td>\n",
       "    </tr>\n",
       "  </tbody>\n",
       "</table>\n",
       "</div>"
      ],
      "text/plain": [
       "              GroupId    Province                             Material Name  \\\n",
       "1  ERW_A1DS2023040002     Bangkok   M SUP AIO PROTECTION TBS 5W-30 4X7L/CAR   \n",
       "2  ERW_A1DS2023040002     Bangkok   M SUP AIO PROTECTION TBS 5W-30 4X7L/CAR   \n",
       "3  ERW_A1DS2023040002     Bangkok     M SUP AIO Protection 5W-30 4x4+1L/CAR   \n",
       "4  ERW_A1DS2023040005  Udon Thani  M DEL LEGEND CH-4 15W-40 H.D. CTN4X7L:TH   \n",
       "5  ERW_A1DS2023040005  Udon Thani   M DEL LEGEND CH-4 15W-40 H.D.,1X12L CTN   \n",
       "\n",
       "   month  cur_volume  next_month  next_volume  volume_diff Churn  \n",
       "1      5       12544         9.0       8120.0      -4424.0   Yes  \n",
       "2      9        8120        11.0       5040.0      -3080.0   Yes  \n",
       "3      5        7160        10.0       4580.0      -2580.0   Yes  \n",
       "4     11       16436        12.0       5908.0     -10528.0   Yes  \n",
       "5      6        7800        10.0      10348.0       2548.0    No  "
      ]
     },
     "execution_count": 2,
     "metadata": {},
     "output_type": "execute_result"
    }
   ],
   "source": [
    "df = pd.read_csv('churn.csv')\n",
    "df.drop(index=0, inplace=True)\n",
    "print(df.shape)\n",
    "\n",
    "df.head()"
   ]
  },
  {
   "cell_type": "code",
   "execution_count": 3,
   "metadata": {},
   "outputs": [],
   "source": [
    "from unidecode import unidecode\n",
    "\n",
    "for ind in df.index:\n",
    "    mat = df.loc[ind, 'Material Name']\n",
    "    df.loc[ind, 'Material Name'] = unidecode(mat)"
   ]
  },
  {
   "cell_type": "code",
   "execution_count": 4,
   "metadata": {},
   "outputs": [],
   "source": [
    "df['oil_type'] = pd.NA\n",
    "\n",
    "# Keywords for Product with qty >= 500\n",
    "# ATF, DELVAC, MOBILUBE, SUPER, MOBIL 1\n",
    "for mat in ['ATF', 'DELVAC', 'MOBILUBE', 'MOBIL 1']:\n",
    "    df.loc[df['Material Name'].str.contains(mat), 'oil_type'] = mat\n",
    "    \n",
    "# special condition\n",
    "df.loc[df['Material Name'].str.contains('MOBIL SUPER'), 'oil_type'] = 'SUPER'\n",
    "df.loc[df['Material Name'].str.contains('M SUP'), 'oil_type'] = 'SUPER'\n",
    "df.loc[df['Material Name'].str.contains('M-Super'), 'oil_type'] = 'SUPER'\n",
    "\n",
    "df.loc[df['Material Name'].str.contains('DEL'), 'oil_type'] = 'DELVAC'\n",
    "df.loc[df['Material Name'].str.contains('M-Del'), 'oil_type'] = 'DELVAC'\n",
    "\n",
    "df.loc[df['Material Name'].str.contains('M1'), 'oil_type'] = 'MOBIL 1'\n",
    "\n",
    "# cleansing for product with qty < 100\n",
    "df.fillna('Other', inplace=True)"
   ]
  },
  {
   "cell_type": "code",
   "execution_count": 5,
   "metadata": {},
   "outputs": [
    {
     "data": {
      "text/html": [
       "<div>\n",
       "<style scoped>\n",
       "    .dataframe tbody tr th:only-of-type {\n",
       "        vertical-align: middle;\n",
       "    }\n",
       "\n",
       "    .dataframe tbody tr th {\n",
       "        vertical-align: top;\n",
       "    }\n",
       "\n",
       "    .dataframe thead th {\n",
       "        text-align: right;\n",
       "    }\n",
       "</style>\n",
       "<table border=\"1\" class=\"dataframe\">\n",
       "  <thead>\n",
       "    <tr style=\"text-align: right;\">\n",
       "      <th>col_0</th>\n",
       "      <th>N</th>\n",
       "    </tr>\n",
       "    <tr>\n",
       "      <th>oil_type</th>\n",
       "      <th></th>\n",
       "    </tr>\n",
       "  </thead>\n",
       "  <tbody>\n",
       "    <tr>\n",
       "      <th>SUPER</th>\n",
       "      <td>0.345932</td>\n",
       "    </tr>\n",
       "    <tr>\n",
       "      <th>DELVAC</th>\n",
       "      <td>0.345407</td>\n",
       "    </tr>\n",
       "    <tr>\n",
       "      <th>MOBILUBE</th>\n",
       "      <td>0.138058</td>\n",
       "    </tr>\n",
       "    <tr>\n",
       "      <th>ATF</th>\n",
       "      <td>0.068766</td>\n",
       "    </tr>\n",
       "    <tr>\n",
       "      <th>MOBIL 1</th>\n",
       "      <td>0.066929</td>\n",
       "    </tr>\n",
       "    <tr>\n",
       "      <th>Other</th>\n",
       "      <td>0.034908</td>\n",
       "    </tr>\n",
       "  </tbody>\n",
       "</table>\n",
       "</div>"
      ],
      "text/plain": [
       "col_0            N\n",
       "oil_type          \n",
       "SUPER     0.345932\n",
       "DELVAC    0.345407\n",
       "MOBILUBE  0.138058\n",
       "ATF       0.068766\n",
       "MOBIL 1   0.066929\n",
       "Other     0.034908"
      ]
     },
     "execution_count": 5,
     "metadata": {},
     "output_type": "execute_result"
    }
   ],
   "source": [
    "pd.crosstab(df['oil_type'], columns='N', normalize=True).sort_values('N', ascending=False)"
   ]
  },
  {
   "cell_type": "code",
   "execution_count": 6,
   "metadata": {},
   "outputs": [
    {
     "data": {
      "text/plain": [
       "GroupId          False\n",
       "Province         False\n",
       "Material Name    False\n",
       "month            False\n",
       "cur_volume       False\n",
       "next_month       False\n",
       "next_volume      False\n",
       "volume_diff      False\n",
       "Churn            False\n",
       "oil_type         False\n",
       "dtype: bool"
      ]
     },
     "execution_count": 6,
     "metadata": {},
     "output_type": "execute_result"
    }
   ],
   "source": [
    "df.isnull().any()"
   ]
  },
  {
   "cell_type": "code",
   "execution_count": 7,
   "metadata": {},
   "outputs": [],
   "source": [
    "from sklearn.model_selection import train_test_split\n",
    "from sklearn.preprocessing import LabelEncoder\n",
    "from sklearn.ensemble import RandomForestRegressor"
   ]
  },
  {
   "cell_type": "code",
   "execution_count": 8,
   "metadata": {},
   "outputs": [
    {
     "data": {
      "text/html": [
       "<div>\n",
       "<style scoped>\n",
       "    .dataframe tbody tr th:only-of-type {\n",
       "        vertical-align: middle;\n",
       "    }\n",
       "\n",
       "    .dataframe tbody tr th {\n",
       "        vertical-align: top;\n",
       "    }\n",
       "\n",
       "    .dataframe thead th {\n",
       "        text-align: right;\n",
       "    }\n",
       "</style>\n",
       "<table border=\"1\" class=\"dataframe\">\n",
       "  <thead>\n",
       "    <tr style=\"text-align: right;\">\n",
       "      <th></th>\n",
       "      <th>Province</th>\n",
       "      <th>Material Name</th>\n",
       "      <th>month</th>\n",
       "      <th>cur_volume</th>\n",
       "      <th>next_month</th>\n",
       "      <th>next_volume</th>\n",
       "    </tr>\n",
       "  </thead>\n",
       "  <tbody>\n",
       "    <tr>\n",
       "      <th>1</th>\n",
       "      <td>Bangkok</td>\n",
       "      <td>M SUP AIO PROTECTION TBS 5W-30 4X7L/CAR</td>\n",
       "      <td>5</td>\n",
       "      <td>12544</td>\n",
       "      <td>9.0</td>\n",
       "      <td>8120.0</td>\n",
       "    </tr>\n",
       "    <tr>\n",
       "      <th>2</th>\n",
       "      <td>Bangkok</td>\n",
       "      <td>M SUP AIO PROTECTION TBS 5W-30 4X7L/CAR</td>\n",
       "      <td>9</td>\n",
       "      <td>8120</td>\n",
       "      <td>11.0</td>\n",
       "      <td>5040.0</td>\n",
       "    </tr>\n",
       "    <tr>\n",
       "      <th>3</th>\n",
       "      <td>Bangkok</td>\n",
       "      <td>M SUP AIO Protection 5W-30 4x4+1L/CAR</td>\n",
       "      <td>5</td>\n",
       "      <td>7160</td>\n",
       "      <td>10.0</td>\n",
       "      <td>4580.0</td>\n",
       "    </tr>\n",
       "    <tr>\n",
       "      <th>4</th>\n",
       "      <td>Udon Thani</td>\n",
       "      <td>M DEL LEGEND CH-4 15W-40 H.D. CTN4X7L:TH</td>\n",
       "      <td>11</td>\n",
       "      <td>16436</td>\n",
       "      <td>12.0</td>\n",
       "      <td>5908.0</td>\n",
       "    </tr>\n",
       "    <tr>\n",
       "      <th>5</th>\n",
       "      <td>Udon Thani</td>\n",
       "      <td>M DEL LEGEND CH-4 15W-40 H.D.,1X12L CTN</td>\n",
       "      <td>6</td>\n",
       "      <td>7800</td>\n",
       "      <td>10.0</td>\n",
       "      <td>10348.0</td>\n",
       "    </tr>\n",
       "  </tbody>\n",
       "</table>\n",
       "</div>"
      ],
      "text/plain": [
       "     Province                             Material Name  month  cur_volume  \\\n",
       "1     Bangkok   M SUP AIO PROTECTION TBS 5W-30 4X7L/CAR      5       12544   \n",
       "2     Bangkok   M SUP AIO PROTECTION TBS 5W-30 4X7L/CAR      9        8120   \n",
       "3     Bangkok     M SUP AIO Protection 5W-30 4x4+1L/CAR      5        7160   \n",
       "4  Udon Thani  M DEL LEGEND CH-4 15W-40 H.D. CTN4X7L:TH     11       16436   \n",
       "5  Udon Thani   M DEL LEGEND CH-4 15W-40 H.D.,1X12L CTN      6        7800   \n",
       "\n",
       "   next_month  next_volume  \n",
       "1         9.0       8120.0  \n",
       "2        11.0       5040.0  \n",
       "3        10.0       4580.0  \n",
       "4        12.0       5908.0  \n",
       "5        10.0      10348.0  "
      ]
     },
     "execution_count": 8,
     "metadata": {},
     "output_type": "execute_result"
    }
   ],
   "source": [
    "sales = df[ ['Province', 'Material Name', 'month', 'cur_volume', 'next_month', 'next_volume']]\n",
    "sales.head()"
   ]
  },
  {
   "cell_type": "code",
   "execution_count": 9,
   "metadata": {},
   "outputs": [],
   "source": [
    "pd.options.mode.copy_on_write = True\n",
    "\n",
    "sales['next_month'] = sales['next_month'].convert_dtypes('int')\n",
    "sales['next_volume'] = sales['next_volume'].convert_dtypes('int')"
   ]
  },
  {
   "cell_type": "code",
   "execution_count": 10,
   "metadata": {},
   "outputs": [
    {
     "data": {
      "text/html": [
       "<div>\n",
       "<style scoped>\n",
       "    .dataframe tbody tr th:only-of-type {\n",
       "        vertical-align: middle;\n",
       "    }\n",
       "\n",
       "    .dataframe tbody tr th {\n",
       "        vertical-align: top;\n",
       "    }\n",
       "\n",
       "    .dataframe thead th {\n",
       "        text-align: right;\n",
       "    }\n",
       "</style>\n",
       "<table border=\"1\" class=\"dataframe\">\n",
       "  <thead>\n",
       "    <tr style=\"text-align: right;\">\n",
       "      <th></th>\n",
       "      <th>Province</th>\n",
       "      <th>Material Name</th>\n",
       "      <th>month</th>\n",
       "      <th>cur_volume</th>\n",
       "      <th>next_month</th>\n",
       "      <th>next_volume</th>\n",
       "    </tr>\n",
       "  </thead>\n",
       "  <tbody>\n",
       "    <tr>\n",
       "      <th>1</th>\n",
       "      <td>1</td>\n",
       "      <td>16</td>\n",
       "      <td>5</td>\n",
       "      <td>12544</td>\n",
       "      <td>9</td>\n",
       "      <td>8120</td>\n",
       "    </tr>\n",
       "    <tr>\n",
       "      <th>2</th>\n",
       "      <td>1</td>\n",
       "      <td>16</td>\n",
       "      <td>9</td>\n",
       "      <td>8120</td>\n",
       "      <td>11</td>\n",
       "      <td>5040</td>\n",
       "    </tr>\n",
       "    <tr>\n",
       "      <th>3</th>\n",
       "      <td>1</td>\n",
       "      <td>18</td>\n",
       "      <td>5</td>\n",
       "      <td>7160</td>\n",
       "      <td>10</td>\n",
       "      <td>4580</td>\n",
       "    </tr>\n",
       "    <tr>\n",
       "      <th>4</th>\n",
       "      <td>59</td>\n",
       "      <td>4</td>\n",
       "      <td>11</td>\n",
       "      <td>16436</td>\n",
       "      <td>12</td>\n",
       "      <td>5908</td>\n",
       "    </tr>\n",
       "    <tr>\n",
       "      <th>5</th>\n",
       "      <td>59</td>\n",
       "      <td>6</td>\n",
       "      <td>6</td>\n",
       "      <td>7800</td>\n",
       "      <td>10</td>\n",
       "      <td>10348</td>\n",
       "    </tr>\n",
       "  </tbody>\n",
       "</table>\n",
       "</div>"
      ],
      "text/plain": [
       "   Province  Material Name  month  cur_volume  next_month  next_volume\n",
       "1         1             16      5       12544           9         8120\n",
       "2         1             16      9        8120          11         5040\n",
       "3         1             18      5        7160          10         4580\n",
       "4        59              4     11       16436          12         5908\n",
       "5        59              6      6        7800          10        10348"
      ]
     },
     "execution_count": 10,
     "metadata": {},
     "output_type": "execute_result"
    }
   ],
   "source": [
    "le = LabelEncoder()\n",
    "le.fit_transform(sales['Material Name'])\n",
    "\n",
    "sales.loc[:, 'Material Name'] = le.fit_transform(sales['Material Name'])\n",
    "sales.loc[:, 'Province'] = le.fit_transform(sales['Province'])\n",
    "\n",
    "sales['Province'] = sales['Province'].astype('int')\n",
    "sales['Material Name'] = sales['Material Name'].astype('int')\n",
    "\n",
    "sales.head()"
   ]
  },
  {
   "cell_type": "code",
   "execution_count": 11,
   "metadata": {},
   "outputs": [
    {
     "name": "stdout",
     "output_type": "stream",
     "text": [
      "<class 'pandas.core.frame.DataFrame'>\n",
      "RangeIndex: 3810 entries, 1 to 3810\n",
      "Data columns (total 6 columns):\n",
      " #   Column         Non-Null Count  Dtype\n",
      "---  ------         --------------  -----\n",
      " 0   Province       3810 non-null   int32\n",
      " 1   Material Name  3810 non-null   int32\n",
      " 2   month          3810 non-null   int64\n",
      " 3   cur_volume     3810 non-null   int64\n",
      " 4   next_month     3810 non-null   Int64\n",
      " 5   next_volume    3810 non-null   Int64\n",
      "dtypes: Int64(2), int32(2), int64(2)\n",
      "memory usage: 156.4 KB\n"
     ]
    }
   ],
   "source": [
    "sales.info()"
   ]
  },
  {
   "cell_type": "markdown",
   "metadata": {},
   "source": [
    "## Time-series Forecast"
   ]
  },
  {
   "cell_type": "code",
   "execution_count": 12,
   "metadata": {},
   "outputs": [
    {
     "name": "stdout",
     "output_type": "stream",
     "text": [
      "(3048, 4) (3048,)\n"
     ]
    }
   ],
   "source": [
    "X_train, X_test, y_train, y_test = train_test_split(sales.drop(columns=['next_month', 'next_volume']),\n",
    "                                                    sales['next_month'],\n",
    "                                                    test_size=0.2)\n",
    "print(X_train.shape, y_train.shape)"
   ]
  },
  {
   "cell_type": "code",
   "execution_count": 13,
   "metadata": {},
   "outputs": [],
   "source": [
    "rf = RandomForestRegressor()\n",
    "rf.fit(X_train, y_train)\n",
    "y_pred = rf.predict(X_test)"
   ]
  },
  {
   "cell_type": "code",
   "execution_count": 14,
   "metadata": {},
   "outputs": [],
   "source": [
    "predict = pd.DataFrame(y_pred.round(0), columns=['month_pred'])\n",
    "pre_cat = pd.concat([X_test, y_test], axis=1)\n",
    "result = pd.concat([pre_cat.reset_index(drop=True), predict], axis=1)"
   ]
  },
  {
   "cell_type": "markdown",
   "metadata": {},
   "source": [
    "## Churn prediction"
   ]
  },
  {
   "cell_type": "code",
   "execution_count": 15,
   "metadata": {},
   "outputs": [],
   "source": [
    "from sklearn.tree import DecisionTreeClassifier\n",
    "from sklearn.ensemble import RandomForestClassifier\n",
    "from xgboost import XGBClassifier\n",
    "from sklearn.metrics import classification_report"
   ]
  },
  {
   "cell_type": "code",
   "execution_count": 16,
   "metadata": {},
   "outputs": [
    {
     "data": {
      "text/html": [
       "<div>\n",
       "<style scoped>\n",
       "    .dataframe tbody tr th:only-of-type {\n",
       "        vertical-align: middle;\n",
       "    }\n",
       "\n",
       "    .dataframe tbody tr th {\n",
       "        vertical-align: top;\n",
       "    }\n",
       "\n",
       "    .dataframe thead th {\n",
       "        text-align: right;\n",
       "    }\n",
       "</style>\n",
       "<table border=\"1\" class=\"dataframe\">\n",
       "  <thead>\n",
       "    <tr style=\"text-align: right;\">\n",
       "      <th></th>\n",
       "      <th>Province</th>\n",
       "      <th>Material Name</th>\n",
       "      <th>month</th>\n",
       "      <th>cur_volume</th>\n",
       "      <th>next_month</th>\n",
       "      <th>next_volume</th>\n",
       "      <th>Churn</th>\n",
       "    </tr>\n",
       "  </thead>\n",
       "  <tbody>\n",
       "    <tr>\n",
       "      <th>1</th>\n",
       "      <td>1</td>\n",
       "      <td>16</td>\n",
       "      <td>5</td>\n",
       "      <td>12544</td>\n",
       "      <td>9</td>\n",
       "      <td>8120</td>\n",
       "      <td>Yes</td>\n",
       "    </tr>\n",
       "    <tr>\n",
       "      <th>2</th>\n",
       "      <td>1</td>\n",
       "      <td>16</td>\n",
       "      <td>9</td>\n",
       "      <td>8120</td>\n",
       "      <td>11</td>\n",
       "      <td>5040</td>\n",
       "      <td>Yes</td>\n",
       "    </tr>\n",
       "    <tr>\n",
       "      <th>3</th>\n",
       "      <td>1</td>\n",
       "      <td>18</td>\n",
       "      <td>5</td>\n",
       "      <td>7160</td>\n",
       "      <td>10</td>\n",
       "      <td>4580</td>\n",
       "      <td>Yes</td>\n",
       "    </tr>\n",
       "    <tr>\n",
       "      <th>4</th>\n",
       "      <td>59</td>\n",
       "      <td>4</td>\n",
       "      <td>11</td>\n",
       "      <td>16436</td>\n",
       "      <td>12</td>\n",
       "      <td>5908</td>\n",
       "      <td>Yes</td>\n",
       "    </tr>\n",
       "    <tr>\n",
       "      <th>5</th>\n",
       "      <td>59</td>\n",
       "      <td>6</td>\n",
       "      <td>6</td>\n",
       "      <td>7800</td>\n",
       "      <td>10</td>\n",
       "      <td>10348</td>\n",
       "      <td>No</td>\n",
       "    </tr>\n",
       "  </tbody>\n",
       "</table>\n",
       "</div>"
      ],
      "text/plain": [
       "   Province  Material Name  month  cur_volume  next_month  next_volume Churn\n",
       "1         1             16      5       12544           9         8120   Yes\n",
       "2         1             16      9        8120          11         5040   Yes\n",
       "3         1             18      5        7160          10         4580   Yes\n",
       "4        59              4     11       16436          12         5908   Yes\n",
       "5        59              6      6        7800          10        10348    No"
      ]
     },
     "execution_count": 16,
     "metadata": {},
     "output_type": "execute_result"
    }
   ],
   "source": [
    "churn = pd.concat([sales, df['Churn']], axis=1)\n",
    "churn.head()"
   ]
  },
  {
   "cell_type": "markdown",
   "metadata": {},
   "source": [
    "Feature Engineering"
   ]
  },
  {
   "cell_type": "code",
   "execution_count": 17,
   "metadata": {},
   "outputs": [
    {
     "data": {
      "text/html": [
       "<div>\n",
       "<style scoped>\n",
       "    .dataframe tbody tr th:only-of-type {\n",
       "        vertical-align: middle;\n",
       "    }\n",
       "\n",
       "    .dataframe tbody tr th {\n",
       "        vertical-align: top;\n",
       "    }\n",
       "\n",
       "    .dataframe thead th {\n",
       "        text-align: right;\n",
       "    }\n",
       "</style>\n",
       "<table border=\"1\" class=\"dataframe\">\n",
       "  <thead>\n",
       "    <tr style=\"text-align: right;\">\n",
       "      <th></th>\n",
       "      <th>Province</th>\n",
       "      <th>Material Name</th>\n",
       "      <th>month</th>\n",
       "      <th>cur_volume</th>\n",
       "      <th>next_month</th>\n",
       "      <th>next_volume</th>\n",
       "      <th>Churn</th>\n",
       "    </tr>\n",
       "  </thead>\n",
       "  <tbody>\n",
       "    <tr>\n",
       "      <th>1</th>\n",
       "      <td>1</td>\n",
       "      <td>16</td>\n",
       "      <td>5</td>\n",
       "      <td>12544</td>\n",
       "      <td>9</td>\n",
       "      <td>8120</td>\n",
       "      <td>1</td>\n",
       "    </tr>\n",
       "    <tr>\n",
       "      <th>2</th>\n",
       "      <td>1</td>\n",
       "      <td>16</td>\n",
       "      <td>9</td>\n",
       "      <td>8120</td>\n",
       "      <td>11</td>\n",
       "      <td>5040</td>\n",
       "      <td>1</td>\n",
       "    </tr>\n",
       "    <tr>\n",
       "      <th>3</th>\n",
       "      <td>1</td>\n",
       "      <td>18</td>\n",
       "      <td>5</td>\n",
       "      <td>7160</td>\n",
       "      <td>10</td>\n",
       "      <td>4580</td>\n",
       "      <td>1</td>\n",
       "    </tr>\n",
       "    <tr>\n",
       "      <th>4</th>\n",
       "      <td>59</td>\n",
       "      <td>4</td>\n",
       "      <td>11</td>\n",
       "      <td>16436</td>\n",
       "      <td>12</td>\n",
       "      <td>5908</td>\n",
       "      <td>1</td>\n",
       "    </tr>\n",
       "    <tr>\n",
       "      <th>5</th>\n",
       "      <td>59</td>\n",
       "      <td>6</td>\n",
       "      <td>6</td>\n",
       "      <td>7800</td>\n",
       "      <td>10</td>\n",
       "      <td>10348</td>\n",
       "      <td>0</td>\n",
       "    </tr>\n",
       "  </tbody>\n",
       "</table>\n",
       "</div>"
      ],
      "text/plain": [
       "   Province  Material Name  month  cur_volume  next_month  next_volume  Churn\n",
       "1         1             16      5       12544           9         8120      1\n",
       "2         1             16      9        8120          11         5040      1\n",
       "3         1             18      5        7160          10         4580      1\n",
       "4        59              4     11       16436          12         5908      1\n",
       "5        59              6      6        7800          10        10348      0"
      ]
     },
     "execution_count": 17,
     "metadata": {},
     "output_type": "execute_result"
    }
   ],
   "source": [
    "churn.loc[:, 'Churn'] = churn['Churn'].map({'Yes': 1, 'No': 0})\n",
    "churn['Churn'] = churn['Churn'].astype('int')\n",
    "churn.head()"
   ]
  },
  {
   "cell_type": "code",
   "execution_count": 18,
   "metadata": {},
   "outputs": [
    {
     "data": {
      "text/html": [
       "<div>\n",
       "<style scoped>\n",
       "    .dataframe tbody tr th:only-of-type {\n",
       "        vertical-align: middle;\n",
       "    }\n",
       "\n",
       "    .dataframe tbody tr th {\n",
       "        vertical-align: top;\n",
       "    }\n",
       "\n",
       "    .dataframe thead th {\n",
       "        text-align: right;\n",
       "    }\n",
       "</style>\n",
       "<table border=\"1\" class=\"dataframe\">\n",
       "  <thead>\n",
       "    <tr style=\"text-align: right;\">\n",
       "      <th></th>\n",
       "      <th>Province</th>\n",
       "      <th>Material Name</th>\n",
       "      <th>month</th>\n",
       "      <th>cur_volume</th>\n",
       "      <th>next_month</th>\n",
       "      <th>next_volume</th>\n",
       "      <th>Churn</th>\n",
       "    </tr>\n",
       "  </thead>\n",
       "  <tbody>\n",
       "    <tr>\n",
       "      <th>1</th>\n",
       "      <td>1</td>\n",
       "      <td>16</td>\n",
       "      <td>5</td>\n",
       "      <td>1.389148</td>\n",
       "      <td>9</td>\n",
       "      <td>0.420011</td>\n",
       "      <td>1</td>\n",
       "    </tr>\n",
       "    <tr>\n",
       "      <th>2</th>\n",
       "      <td>1</td>\n",
       "      <td>16</td>\n",
       "      <td>9</td>\n",
       "      <td>0.437082</td>\n",
       "      <td>11</td>\n",
       "      <td>-0.245232</td>\n",
       "      <td>1</td>\n",
       "    </tr>\n",
       "    <tr>\n",
       "      <th>3</th>\n",
       "      <td>1</td>\n",
       "      <td>18</td>\n",
       "      <td>5</td>\n",
       "      <td>0.230486</td>\n",
       "      <td>10</td>\n",
       "      <td>-0.344587</td>\n",
       "      <td>1</td>\n",
       "    </tr>\n",
       "    <tr>\n",
       "      <th>4</th>\n",
       "      <td>59</td>\n",
       "      <td>4</td>\n",
       "      <td>11</td>\n",
       "      <td>2.226725</td>\n",
       "      <td>12</td>\n",
       "      <td>-0.057754</td>\n",
       "      <td>1</td>\n",
       "    </tr>\n",
       "    <tr>\n",
       "      <th>5</th>\n",
       "      <td>59</td>\n",
       "      <td>6</td>\n",
       "      <td>6</td>\n",
       "      <td>0.368217</td>\n",
       "      <td>10</td>\n",
       "      <td>0.901233</td>\n",
       "      <td>0</td>\n",
       "    </tr>\n",
       "  </tbody>\n",
       "</table>\n",
       "</div>"
      ],
      "text/plain": [
       "   Province  Material Name  month  cur_volume  next_month  next_volume  Churn\n",
       "1         1             16      5    1.389148           9     0.420011      1\n",
       "2         1             16      9    0.437082          11    -0.245232      1\n",
       "3         1             18      5    0.230486          10    -0.344587      1\n",
       "4        59              4     11    2.226725          12    -0.057754      1\n",
       "5        59              6      6    0.368217          10     0.901233      0"
      ]
     },
     "execution_count": 18,
     "metadata": {},
     "output_type": "execute_result"
    }
   ],
   "source": [
    "cur_vol = churn['cur_volume']\n",
    "churn.loc[:, 'cur_volume'] = (cur_vol - cur_vol.mean()) / cur_vol.std()\n",
    "\n",
    "next_vol = churn['next_volume']\n",
    "churn.loc[:, 'next_volume'] = (next_vol - next_vol.mean()) / next_vol.std()\n",
    "\n",
    "churn.head()"
   ]
  },
  {
   "cell_type": "code",
   "execution_count": 19,
   "metadata": {},
   "outputs": [
    {
     "name": "stdout",
     "output_type": "stream",
     "text": [
      "(3048, 6) (3048,)\n"
     ]
    }
   ],
   "source": [
    "X_train, X_test, y_train, y_test = train_test_split(churn.drop(columns='Churn'), churn['Churn'],\n",
    "                                                    test_size=0.2)\n",
    "print(X_train.shape, y_train.shape)"
   ]
  },
  {
   "cell_type": "code",
   "execution_count": 20,
   "metadata": {},
   "outputs": [
    {
     "data": {
      "text/html": [
       "<div>\n",
       "<style scoped>\n",
       "    .dataframe tbody tr th:only-of-type {\n",
       "        vertical-align: middle;\n",
       "    }\n",
       "\n",
       "    .dataframe tbody tr th {\n",
       "        vertical-align: top;\n",
       "    }\n",
       "\n",
       "    .dataframe thead th {\n",
       "        text-align: right;\n",
       "    }\n",
       "</style>\n",
       "<table border=\"1\" class=\"dataframe\">\n",
       "  <thead>\n",
       "    <tr style=\"text-align: right;\">\n",
       "      <th>col_0</th>\n",
       "      <th>N</th>\n",
       "    </tr>\n",
       "    <tr>\n",
       "      <th>Churn</th>\n",
       "      <th></th>\n",
       "    </tr>\n",
       "  </thead>\n",
       "  <tbody>\n",
       "    <tr>\n",
       "      <th>0</th>\n",
       "      <td>0.371063</td>\n",
       "    </tr>\n",
       "    <tr>\n",
       "      <th>1</th>\n",
       "      <td>0.628937</td>\n",
       "    </tr>\n",
       "  </tbody>\n",
       "</table>\n",
       "</div>"
      ],
      "text/plain": [
       "col_0         N\n",
       "Churn          \n",
       "0      0.371063\n",
       "1      0.628937"
      ]
     },
     "execution_count": 20,
     "metadata": {},
     "output_type": "execute_result"
    }
   ],
   "source": [
    "pd.crosstab(y_train, 'N', normalize=True)"
   ]
  },
  {
   "cell_type": "markdown",
   "metadata": {},
   "source": [
    "### Machine Learning"
   ]
  },
  {
   "cell_type": "code",
   "execution_count": 21,
   "metadata": {},
   "outputs": [
    {
     "name": "stdout",
     "output_type": "stream",
     "text": [
      "              precision    recall  f1-score   support\n",
      "\n",
      "           0       0.88      0.90      0.89       286\n",
      "           1       0.94      0.92      0.93       476\n",
      "\n",
      "    accuracy                           0.92       762\n",
      "   macro avg       0.91      0.91      0.91       762\n",
      "weighted avg       0.92      0.92      0.92       762\n",
      "\n"
     ]
    }
   ],
   "source": [
    "model = DecisionTreeClassifier()\n",
    "model.fit(X_train, y_train)\n",
    "y_pred = model.predict(X_test)\n",
    "\n",
    "print(classification_report(y_test, y_pred))"
   ]
  },
  {
   "cell_type": "code",
   "execution_count": 22,
   "metadata": {},
   "outputs": [
    {
     "data": {
      "text/html": [
       "<div>\n",
       "<style scoped>\n",
       "    .dataframe tbody tr th:only-of-type {\n",
       "        vertical-align: middle;\n",
       "    }\n",
       "\n",
       "    .dataframe tbody tr th {\n",
       "        vertical-align: top;\n",
       "    }\n",
       "\n",
       "    .dataframe thead th {\n",
       "        text-align: right;\n",
       "    }\n",
       "</style>\n",
       "<table border=\"1\" class=\"dataframe\">\n",
       "  <thead>\n",
       "    <tr style=\"text-align: right;\">\n",
       "      <th></th>\n",
       "      <th>column</th>\n",
       "      <th>Feature_Importance</th>\n",
       "    </tr>\n",
       "  </thead>\n",
       "  <tbody>\n",
       "    <tr>\n",
       "      <th>5</th>\n",
       "      <td>next_volume</td>\n",
       "      <td>0.359651</td>\n",
       "    </tr>\n",
       "    <tr>\n",
       "      <th>3</th>\n",
       "      <td>cur_volume</td>\n",
       "      <td>0.281480</td>\n",
       "    </tr>\n",
       "    <tr>\n",
       "      <th>2</th>\n",
       "      <td>month</td>\n",
       "      <td>0.171314</td>\n",
       "    </tr>\n",
       "    <tr>\n",
       "      <th>4</th>\n",
       "      <td>next_month</td>\n",
       "      <td>0.141318</td>\n",
       "    </tr>\n",
       "    <tr>\n",
       "      <th>1</th>\n",
       "      <td>Material Name</td>\n",
       "      <td>0.032130</td>\n",
       "    </tr>\n",
       "    <tr>\n",
       "      <th>0</th>\n",
       "      <td>Province</td>\n",
       "      <td>0.014108</td>\n",
       "    </tr>\n",
       "  </tbody>\n",
       "</table>\n",
       "</div>"
      ],
      "text/plain": [
       "          column  Feature_Importance\n",
       "5    next_volume            0.359651\n",
       "3     cur_volume            0.281480\n",
       "2          month            0.171314\n",
       "4     next_month            0.141318\n",
       "1  Material Name            0.032130\n",
       "0       Province            0.014108"
      ]
     },
     "execution_count": 22,
     "metadata": {},
     "output_type": "execute_result"
    }
   ],
   "source": [
    "pd.DataFrame({\n",
    "    'column': X_train.columns,\n",
    "    'Feature_Importance': model.feature_importances_\n",
    "}).sort_values('Feature_Importance', ascending=False)"
   ]
  },
  {
   "cell_type": "code",
   "execution_count": 23,
   "metadata": {},
   "outputs": [],
   "source": [
    "from sklearn import tree\n",
    "\n",
    "tree.export_graphviz(model, out_file='churn_mobil.dot',\n",
    "                    feature_names=X_train.columns,\n",
    "                    class_names=churn['Churn'].map({1: 'Yes', 0: 'No'}).unique(),\n",
    "                     label='all',\n",
    "                    rounded=True,\n",
    "                    filled=True)"
   ]
  },
  {
   "cell_type": "markdown",
   "metadata": {},
   "source": [
    "Random Forest"
   ]
  },
  {
   "cell_type": "code",
   "execution_count": null,
   "metadata": {},
   "outputs": [],
   "source": [
    "rf = RandomForestClassifier()\n",
    "rf.fit(X_train, y_train)\n",
    "\n",
    "print(classification_report(y_test, rf.predict(X_test)))"
   ]
  },
  {
   "cell_type": "code",
   "execution_count": null,
   "metadata": {},
   "outputs": [],
   "source": [
    "pd.DataFrame({\n",
    "    'Column': X_train.columns,\n",
    "    'Features_importance': rf.feature_importances_\n",
    "})"
   ]
  },
  {
   "cell_type": "markdown",
   "metadata": {},
   "source": [
    "XGBoost"
   ]
  },
  {
   "cell_type": "code",
   "execution_count": null,
   "metadata": {},
   "outputs": [],
   "source": [
    "xgb = XGBClassifier()\n",
    "xgb.fit(X_train, y_train)\n",
    "\n",
    "print(classification_report(y_test, xgb.predict(X_test)))"
   ]
  },
  {
   "cell_type": "code",
   "execution_count": null,
   "metadata": {},
   "outputs": [],
   "source": [
    "pd.DataFrame({\n",
    "    'Column': X_train.columns,\n",
    "    'Features_importance': rf.feature_importances_\n",
    "}).sort_values('Features_importance', ascending=False)"
   ]
  },
  {
   "cell_type": "code",
   "execution_count": null,
   "metadata": {},
   "outputs": [],
   "source": []
  }
 ],
 "metadata": {
  "kernelspec": {
   "display_name": "Python 3 (ipykernel)",
   "language": "python",
   "name": "python3"
  },
  "language_info": {
   "codemirror_mode": {
    "name": "ipython",
    "version": 3
   },
   "file_extension": ".py",
   "mimetype": "text/x-python",
   "name": "python",
   "nbconvert_exporter": "python",
   "pygments_lexer": "ipython3",
   "version": "3.12.1"
  }
 },
 "nbformat": 4,
 "nbformat_minor": 2
}
